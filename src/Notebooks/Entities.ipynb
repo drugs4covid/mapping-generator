{
 "cells": [
  {
   "cell_type": "code",
   "execution_count": 1,
   "id": "6f8d3fb9-caf8-44ad-80d7-66da29bd9c08",
   "metadata": {},
   "outputs": [],
   "source": []
  },
  {
   "cell_type": "code",
   "execution_count": 4,
   "id": "1f5d80c9-2e3e-4ad4-9956-ddc8ac383724",
   "metadata": {},
   "outputs": [],
   "source": [
    "class RMLEntity(object):\n",
    "    def __init__(self, table, onto_class, class_properties):\n",
    "        self.onto_class = onto_class\n",
    "        self.onto_properties = class_properties\n",
    "        self.table = table"
   ]
  },
  {
   "cell_type": "code",
   "execution_count": null,
   "id": "38515a9a-5bba-4b08-bfc7-5c684ba6e06b",
   "metadata": {},
   "outputs": [],
   "source": []
  }
 ],
 "metadata": {
  "kernelspec": {
   "display_name": "Python 3 (ipykernel)",
   "language": "python",
   "name": "python3"
  },
  "language_info": {
   "codemirror_mode": {
    "name": "ipython",
    "version": 3
   },
   "file_extension": ".py",
   "mimetype": "text/x-python",
   "name": "python",
   "nbconvert_exporter": "python",
   "pygments_lexer": "ipython3",
   "version": "3.9.7"
  }
 },
 "nbformat": 4,
 "nbformat_minor": 5
}
