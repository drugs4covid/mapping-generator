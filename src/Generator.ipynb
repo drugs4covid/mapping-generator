{
 "cells": [
  {
   "cell_type": "code",
   "execution_count": null,
   "metadata": {},
   "outputs": [],
   "source": [
    "pip install owlready2"
   ]
  },
  {
   "cell_type": "code",
   "execution_count": null,
   "metadata": {},
   "outputs": [],
   "source": [
    "pip install mysql-connector-python"
   ]
  },
  {
   "cell_type": "code",
   "execution_count": 1,
   "metadata": {},
   "outputs": [],
   "source": [
    "import sqlite3\n",
    "import pandas as pd\n",
    "import csv\n",
    "import mysql.connector\n",
    "from sqlite3 import Error\n",
    "from owlready2 import *"
   ]
  },
  {
   "cell_type": "code",
   "execution_count": null,
   "metadata": {},
   "outputs": [],
   "source": [
    "dataname = 'database.db'\n",
    "memory = ':memory:'\n",
    "try:\n",
    "    con = sqlite3.connect(dataname)\n",
    "    print(\"Connection is established:\" + dataname)\n",
    "except Error:\n",
    "    print (Error)\n",
    "        \n",
    "def sql_table(con):\n",
    "    cursorObj = con.cursor()\n",
    "    sql_file = open(\"Agencia.sql\")\n",
    "    sql_as_string = sql_file.read()\n",
    "    cursorObj.executescript(sql_as_string)\n",
    "    con.commit()\n",
    "\n",
    "#http://vocab.gtfs.org/gtfs.ttl\n",
    "sql_table(con)"
   ]
  },
  {
   "cell_type": "code",
   "execution_count": 31,
   "metadata": {},
   "outputs": [],
   "source": [
    "def connect_database():\n",
    "    try:\n",
    "        connection = mysql.connector.connect(host='localhost',\n",
    "                                     user='root',\n",
    "                                     password='gtfs',\n",
    "                                     database='gtfs',\n",
    "                                     charset='utf8mb4')\n",
    "\n",
    "        if connection.is_connected():\n",
    "                db_Info = connection.get_server_info()\n",
    "                print(\"Connected to MySQL Server version \", db_Info)\n",
    "                cursor = connection.cursor()\n",
    "                cursor.execute(\"select database();\")\n",
    "                record = cursor.fetchone()\n",
    "                print(\"You're connected to database: \", record)\n",
    "            \n",
    "        return connection, cursor\n",
    "\n",
    "    except Error as e:\n",
    "        print(\"Error while connecting to MySQL\", e)\n",
    "    #finally:\n",
    "    #    if connection.is_connected():\n",
    "    #        cursor.close()\n",
    "    #        connection.close()\n",
    "    #        print(\"MySQL connection is closed\")"
   ]
  },
  {
   "cell_type": "code",
   "execution_count": 37,
   "metadata": {},
   "outputs": [],
   "source": [
    "def get_tables(connection, cursor):\n",
    "    cursor.execute(\"show tables;\")\n",
    "    myresult = cursor.fetchall()\n",
    "    \n",
    "    #for y in myresult:\n",
    "    #    sql_select_Query = \"select * from \" + y[0]\n",
    "    #    cursor = connection.cursor()\n",
    "    #    cursor.execute(sql_select_Query)\n",
    "        # get all records\n",
    "    #    records = cursor.fetchall()\n",
    "    #    print(\"Total number of columns in table: \" + y[0], cursor.column_names)\n",
    "    return myresult\n",
    "        #print(\"\\nPrinting each row\")\n",
    "        #for row in records:\n",
    "        #    print(row)\n",
    "\n",
    "        #num_fields = len(cursor.description)\n",
    "        #field_names = [i[0] for i in cursor.description]\n",
    "\n",
    "        #print(field_names)"
   ]
  },
  {
   "cell_type": "code",
   "execution_count": null,
   "metadata": {},
   "outputs": [],
   "source": [
    "\n",
    "\n",
    "cur = connection.cursor()\n",
    "#cur.execute(\"SELECT * FROM AGENCY\")\n",
    "#cur.fetchall()\n",
    "cur.execute('DROP DATABASE IF EXISTS prueba.db')\n",
    "df = pd.read_sql_query(\"SELECT * FROM AGENCY\",con)\n",
    "print(df.to_string())\n",
    "\n"
   ]
  },
  {
   "cell_type": "code",
   "execution_count": null,
   "metadata": {},
   "outputs": [],
   "source": [
    "df = pd.read_csv('examples/datasets/sql/1/AGENCY.csv')\n",
    "print(df.to_string()) "
   ]
  },
  {
   "cell_type": "code",
   "execution_count": 6,
   "metadata": {},
   "outputs": [],
   "source": [
    "my_world = World()\n",
    "ontology = \"gtfs\"\n",
    "onto = my_world.get_ontology(ontology).load()"
   ]
  },
  {
   "cell_type": "code",
   "execution_count": 7,
   "metadata": {},
   "outputs": [
    {
     "name": "stdout",
     "output_type": "stream",
     "text": [
      "http://vocab.gtfs.org/terms#\n",
      "gtfs\n"
     ]
    }
   ],
   "source": [
    "print(onto.base_iri)\n",
    "print(onto.name)"
   ]
  },
  {
   "cell_type": "code",
   "execution_count": 8,
   "metadata": {},
   "outputs": [],
   "source": [
    "def get_ontology_classes():\n",
    "    try:\n",
    "        l = list(my_world.sparql(\"\"\"\n",
    "                   SELECT  DISTINCT ?x \n",
    "                   { ?x a rdfs:Class . }\n",
    "            \"\"\"))\n",
    "    except:\n",
    "        l = list(my_world.sparql(\"\"\"\n",
    "                   SELECT  DISTINCT ?x \n",
    "                   { ?x a owl:Class . }\n",
    "            \"\"\"))\n",
    "    class_list_names = []\n",
    "    pair_class_names = []\n",
    "    for elem in l:\n",
    "        terms = str(elem).split('.')\n",
    "        pair_class_names.append((re.sub(']', '',terms.pop()), elem))\n",
    "    return pair_class_names"
   ]
  },
  {
   "cell_type": "code",
   "execution_count": 38,
   "metadata": {},
   "outputs": [
    {
     "name": "stdout",
     "output_type": "stream",
     "text": [
      "Connected to MySQL Server version  8.0.26\n",
      "You're connected to database:  ('gtfs',)\n",
      "('AGENCY',)\n",
      "('CALENDAR',)\n",
      "('CALENDAR_DATES',)\n",
      "('FEED_INFO',)\n",
      "('FREQUENCIES',)\n",
      "('ROUTES',)\n",
      "('SHAPES',)\n",
      "('STOPS',)\n",
      "('STOP_TIMES',)\n",
      "('TRIPS',)\n",
      "Total number of columns in table: AGENCY ('agency_id', 'agency_name', 'agency_url', 'agency_timezone', 'agency_lang', 'agency_phone', 'agency_fare_url')\n",
      "Total number of columns in table: CALENDAR ('service_id', 'monday', 'tuesday', 'wednesday', 'thursday', 'friday', 'saturday', 'sunday', 'start_date', 'end_date')\n",
      "Total number of columns in table: CALENDAR_DATES ('service_id', 'date', 'exception_type')\n",
      "Total number of columns in table: FEED_INFO ('feed_publisher_name', 'feed_publisher_url', 'feed_lang', 'feed_start_date', 'feed_end_date', 'feed_version')\n",
      "Total number of columns in table: FREQUENCIES ('trip_id', 'start_time', 'end_time', 'headway_secs', 'exact_times')\n",
      "Total number of columns in table: ROUTES ('route_id', 'agency_id', 'route_short_name', 'route_long_name', 'route_desc', 'route_type', 'route_url', 'route_color', 'route_text_color')\n",
      "Total number of columns in table: SHAPES ('shape_id', 'shape_pt_lat', 'shape_pt_lon', 'shape_pt_sequence', 'shape_dist_traveled')\n",
      "Total number of columns in table: STOPS ('stop_id', 'stop_code', 'stop_name', 'stop_desc', 'stop_lat', 'stop_lon', 'zone_id', 'stop_url', 'location_type', 'parent_station', 'stop_timezone', 'wheelchair_boarding')\n",
      "Total number of columns in table: STOP_TIMES ('trip_id', 'arrival_time', 'departure_time', 'stop_id', 'stop_sequence', 'stop_headsign', 'pickup_type', 'drop_off_type', 'shape_dist_traveled')\n",
      "Total number of columns in table: TRIPS ('route_id', 'service_id', 'trip_id', 'trip_headsign', 'trip_short_name', 'direction_id', 'block_id', 'shape_id', 'wheelchair_accessible')\n",
      "\n",
      "Reading  Ontology...\n",
      "\n",
      "[('RouteType', [gtfs.RouteType]), ('PickupType', [gtfs.PickupType]), ('Route', [gtfs.Route]), ('Frequency', [gtfs.Frequency]), ('ShapePoint', [gtfs.ShapePoint]), ('CalendarDateRule', [gtfs.CalendarDateRule]), ('ServiceRule', [gtfs.ServiceRule]), ('Agency', [gtfs.Agency]), ('WheelchairBoardingStatus', [gtfs.WheelchairBoardingStatus]), ('CalendarRule', [gtfs.CalendarRule]), ('PaymentMethod', [gtfs.PaymentMethod]), ('FareClass', [gtfs.FareClass]), ('Stop', [gtfs.Stop]), ('DropOffType', [gtfs.DropOffType]), ('Service', [gtfs.Service]), ('StopTime', [gtfs.StopTime]), ('Shape', [gtfs.Shape]), ('Trip', [gtfs.Trip]), ('FareRule', [gtfs.FareRule]), ('TransfersAllowedType', [gtfs.TransfersAllowedType]), ('TransferType', [gtfs.TransferType]), ('Station', [gtfs.Station]), ('Feed', [gtfs.Feed]), ('TransferRule', [gtfs.TransferRule]), ('Zone', [gtfs.Zone])]\n"
     ]
    }
   ],
   "source": [
    "connection, cursor = connect_database()\n",
    "tables = get_tables(connection,cursor)\n",
    "print(\"\\nReading  Ontology...\\n\")\n",
    "oc = get_ontology_classes()\n",
    "print(oc)\n",
    "\n"
   ]
  },
  {
   "cell_type": "code",
   "execution_count": null,
   "metadata": {},
   "outputs": [],
   "source": []
  }
 ],
 "metadata": {
  "kernelspec": {
   "display_name": "Python 3 (ipykernel)",
   "language": "python",
   "name": "python3"
  },
  "language_info": {
   "codemirror_mode": {
    "name": "ipython",
    "version": 3
   },
   "file_extension": ".py",
   "mimetype": "text/x-python",
   "name": "python",
   "nbconvert_exporter": "python",
   "pygments_lexer": "ipython3",
   "version": "3.9.7"
  }
 },
 "nbformat": 4,
 "nbformat_minor": 4
}
